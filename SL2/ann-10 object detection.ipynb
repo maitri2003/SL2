{
 "cells": [
  {
   "cell_type": "code",
   "execution_count": 1,
   "id": "703a399a",
   "metadata": {},
   "outputs": [
    {
     "name": "stdout",
     "output_type": "stream",
     "text": [
      "1/1 [==============================] - 1s 833ms/step\n",
      "Downloading data from https://storage.googleapis.com/download.tensorflow.org/data/imagenet_class_index.json\n",
      "35363/35363 [==============================] - 0s 1us/step\n",
      "beach_wagon: 16.78048074245453%\n",
      "limousine: 16.4048433303833%\n",
      "grille: 14.53026831150055%\n",
      "sports_car: 12.437212467193604%\n",
      "convertible: 11.222554743289948%\n"
     ]
    }
   ],
   "source": [
    "import tensorflow as tf\n",
    "model = tf.keras.applications.MobileNetV2(weights='imagenet')\n",
    "# Load image and preprocess it\n",
    "image = tf.keras.preprocessing.image.load_img('download.jpeg', target_size=(224, 224))\n",
    "image = tf.keras.preprocessing.image.img_to_array(image)\n",
    "image = tf.keras.applications.mobilenet_v2.preprocess_input(image)\n",
    "image = tf.expand_dims(image, axis=0)\n",
    "# Run object detection\n",
    "predictions = model.predict(image)\n",
    "decoded_predictions = tf.keras.applications.mobilenet_v2.decode_predictions(predictions)\n",
    "# Print top predicted objects\n",
    "for _, label, confidence in decoded_predictions[0]:\n",
    "    print(f\"{label}: {confidence * 100}%\")\n"
   ]
  },
  {
   "cell_type": "code",
   "execution_count": null,
   "id": "aaa53ce3",
   "metadata": {},
   "outputs": [],
   "source": []
  }
 ],
 "metadata": {
  "kernelspec": {
   "display_name": "Python 3 (ipykernel)",
   "language": "python",
   "name": "python3"
  },
  "language_info": {
   "codemirror_mode": {
    "name": "ipython",
    "version": 3
   },
   "file_extension": ".py",
   "mimetype": "text/x-python",
   "name": "python",
   "nbconvert_exporter": "python",
   "pygments_lexer": "ipython3",
   "version": "3.11.7"
  }
 },
 "nbformat": 4,
 "nbformat_minor": 5
}
