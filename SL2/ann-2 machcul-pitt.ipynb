{
 "cells": [
  {
   "cell_type": "code",
   "execution_count": 2,
   "metadata": {
    "id": "Ch2sbVDMSoLA"
   },
   "outputs": [],
   "source": [
    "def mcculloch_pitts(input1, input2):\n",
    "    # Define the weights and threshold\n",
    "    weights = [1, 1]\n",
    "    threshold = 1\n",
    "\n",
    "    # Compute the weighted sum\n",
    "    weighted_sum = input1 * weights[0] + input2 * weights[1]\n",
    "\n",
    "    # Apply the threshold function\n",
    "    if weighted_sum >= threshold:\n",
    "        return 1\n",
    "    else:\n",
    "        return 0\n",
    "\n",
    "\n"
   ]
  },
  {
   "cell_type": "code",
   "execution_count": 3,
   "metadata": {
    "colab": {
     "base_uri": "https://localhost:8080/"
    },
    "id": "AhuHrjefTSX4",
    "outputId": "a9f61d58-4379-449d-ef97-b92981db0d99"
   },
   "outputs": [
    {
     "name": "stdout",
     "output_type": "stream",
     "text": [
      "0\n",
      "1\n",
      "1\n",
      "1\n"
     ]
    }
   ],
   "source": [
    "# Test the function with different inputs\n",
    "print(mcculloch_pitts(0, 0))  \n",
    "print(mcculloch_pitts(1, 0))  \n",
    "print(mcculloch_pitts(0, 1))  \n",
    "print(mcculloch_pitts(1, 1))  "
   ]
  }
 ],
 "metadata": {
  "colab": {
   "provenance": []
  },
  "kernelspec": {
   "display_name": "Python 3 (ipykernel)",
   "language": "python",
   "name": "python3"
  },
  "language_info": {
   "codemirror_mode": {
    "name": "ipython",
    "version": 3
   },
   "file_extension": ".py",
   "mimetype": "text/x-python",
   "name": "python",
   "nbconvert_exporter": "python",
   "pygments_lexer": "ipython3",
   "version": "3.11.7"
  }
 },
 "nbformat": 4,
 "nbformat_minor": 4
}
